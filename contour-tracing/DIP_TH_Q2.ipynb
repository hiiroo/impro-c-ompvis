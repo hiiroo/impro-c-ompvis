{
 "cells": [
  {
   "cell_type": "code",
   "execution_count": 12,
   "metadata": {
    "collapsed": false
   },
   "outputs": [],
   "source": [
    "from scipy import misc\n",
    "from PIL import Image\n",
    "from numpy import *\n",
    "import numpy as np\n",
    "import matplotlib.pyplot as plt\n",
    "import matplotlib.image as mpimg\n",
    "from skimage.filters import threshold_otsu\n",
    "from skimage.morphology import square\n",
    "from skimage.morphology import closing"
   ]
  },
  {
   "cell_type": "code",
   "execution_count": 13,
   "metadata": {
    "collapsed": false,
    "scrolled": false
   },
   "outputs": [
    {
     "data": {
      "image/png": "[encoded data removed]",
      "text/plain": [
       "<matplotlib.figure.Figure at 0x110d944a8>"
      ]
     },
     "metadata": {},
     "output_type": "display_data"
    }
   ],
   "source": [
    "I = asarray(Image.open('15.jpg'));\n",
    "Ig = np.dot(I[...,:3], [0.299, 0.587, 0.114])\n",
    "thresh = threshold_otsu(Ig)\n",
    "Ib = Ig > thresh\n",
    "Ib = 1-Ib\n",
    "Ib = closing(Ib, square(15))\n",
    "ax = plt.subplot(2, 1, 1)\n",
    "ax.get_xaxis().set_visible(False)\n",
    "ax.get_yaxis().set_visible(False)\n",
    "plt.imshow(Ig, cmap=plt.cm.gray)\n",
    "\n",
    "ax = plt.subplot(2, 1, 2)\n",
    "ax.get_xaxis().set_visible(False)\n",
    "ax.get_yaxis().set_visible(False)\n",
    "plt.imshow(Ib, cmap=plt.cm.gray)\n",
    "\n",
    "plt.show()"
   ]
  },
  {
   "cell_type": "code",
   "execution_count": 14,
   "metadata": {
    "collapsed": false
   },
   "outputs": [],
   "source": [
    "gi = 0\n",
    "gj = 0\n",
    "iflag = 0\n",
    "for i in range(1, Ib.shape[0]-1):\n",
    "    for j in range(1, Ib.shape[1]-1):\n",
    "        if(Ib[i,j]==1):\n",
    "            gi = i\n",
    "            gj = j\n",
    "            iflag = 1\n",
    "        if(iflag == 1):\n",
    "            break\n",
    "    if(iflag == 1):\n",
    "        break"
   ]
  },
  {
   "cell_type": "code",
   "execution_count": 15,
   "metadata": {
    "collapsed": false
   },
   "outputs": [],
   "source": [
    "Im = np.zeros(Ib.shape);\n",
    "      \n",
    "starti = gi\n",
    "startj = gj\n",
    "gc = 0 \n",
    "k = gi-1\n",
    "l = gj-1\n",
    "while(gc < Ib.shape[0]*Ib.shape[1]):\n",
    "    flag = 0\n",
    "    k = gi-1\n",
    "    l = gj-1\n",
    "    \n",
    "    if(flag == 0):\n",
    "        while(k <= gi+1):\n",
    "            if(Ib[k,l]==1):\n",
    "                flag=1\n",
    "                break\n",
    "            k+=1\n",
    "    if(flag == 0):\n",
    "        while(l <= gj+1):\n",
    "            if(Ib[k,l]==1):\n",
    "                flag=1\n",
    "                break\n",
    "            l+=1\n",
    "    if(flag == 0):\n",
    "        while(k >= gi-1):\n",
    "            if(Ib[k,l]==1):\n",
    "                flag=1\n",
    "                break\n",
    "            k-=1\n",
    "    if(flag == 0):\n",
    "        while(l >= gj-1):\n",
    "            if(Ib[k,l]==1):\n",
    "                flag=1\n",
    "                break\n",
    "            l-=1\n",
    "            \n",
    "    if(flag == 1):\n",
    "        gi=k\n",
    "        gj=l\n",
    "        Im[k,l] = 1\n",
    "    gc+=1\n",
    "\n",
    "gc=0\n",
    "while(gc < Ib.shape[0]*Ib.shape[1]):\n",
    "    flag = 0\n",
    "    k = gi+1\n",
    "    l = gj+1\n",
    "    \n",
    "    if(flag == 0):\n",
    "        while(k >= gi-1):\n",
    "            if(Ib[k,l]==1):\n",
    "                flag=1\n",
    "                break\n",
    "            k-=1\n",
    "    if(flag == 0):\n",
    "        while(l >= gj-1):\n",
    "            if(Ib[k,l]==1):\n",
    "                flag=1\n",
    "                break\n",
    "            l-=1\n",
    "    if(flag == 0):\n",
    "        while(k <= gi+1):\n",
    "            if(Ib[k,l]==1):\n",
    "                flag=1\n",
    "                break\n",
    "            k+=1\n",
    "    if(flag == 0):\n",
    "        while(l <= gj+1):\n",
    "            if(Ib[k,l]==1):\n",
    "                flag=1\n",
    "                break\n",
    "            l+=1\n",
    "    if(flag == 1):\n",
    "        gi=k\n",
    "        gj=l\n",
    "        Im[k,l] = 1\n",
    "    gc+=1"
   ]
  },
  {
   "cell_type": "code",
   "execution_count": 16,
   "metadata": {
    "collapsed": false,
    "scrolled": true
   },
   "outputs": [
    {
     "data": {
      "image/png": "[encoded data removed]",
      "text/plain": [
       "<matplotlib.figure.Figure at 0x10cc6a400>"
      ]
     },
     "metadata": {},
     "output_type": "display_data"
    }
   ],
   "source": [
    "plt.imshow(Im, cmap=plt.cm.binary)\n",
    "plt.show()"
   ]
  },
  {
   "cell_type": "code",
   "execution_count": 21,
   "metadata": {
    "collapsed": false,
    "scrolled": true
   },
   "outputs": [],
   "source": [
    "Im = Image.fromarray((Im * 255).astype(uint8))\n",
    "Im.save('contour.png')"
   ]
  }
 ],
 "metadata": {
  "kernelspec": {
   "display_name": "Python 3",
   "language": "python",
   "name": "python3"
  },
  "language_info": {
   "codemirror_mode": {
    "name": "ipython",
    "version": 3
   },
   "file_extension": ".py",
   "mimetype": "text/x-python",
   "name": "python",
   "nbconvert_exporter": "python",
   "pygments_lexer": "ipython3",
   "version": "3.6.0"
  }
 },
 "nbformat": 4,
 "nbformat_minor": 0
}
